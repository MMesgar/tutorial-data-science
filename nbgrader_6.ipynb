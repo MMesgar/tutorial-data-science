{
  "cells": [
    {
      "cell_type": "markdown",
      "metadata": {
        "pycharm": {}
      },
      "source": [
        "## General Instruction\n",
        "\n",
        "- In this annotation, you only need to annotate last 3 text-code pairs. You will see:\n",
        "    - the dialogue history (multiple text-code pairs above), \n",
        "    - the text description treated as the human intent, \n",
        "    - and the corresponding code.\n",
        "- Your mission is to add clarification questions and provide corresponding answers. The blocks include:\n",
        "    - Clarification: where you add the question\n",
        "    - Answer: where you provide the answer\n",
        "    - Reason: you type why you think the clarification question is needed. (optional)\n",
        "- Special Instructions:\n",
        "    - We provide \"round 1\" for each clarifications.\n",
        "    - We encourage you to add more rounds if needed.\n",
        "    - For instructions about how to ask clarification questions, refer to the cell below.\n",
        "    - If you are inputing variable names, codes, etc., just use `this format`.\n",
        "- When you find the code doesn\u0027t fit with the \"intent\":\n",
        "    - just type in round 1 \"reason\" block `code doesn\u0027t fit`.\n",
        "    - skip to the next question."
      ]
    },
    {
      "cell_type": "markdown",
      "metadata": {
        "pycharm": {}
      },
      "source": [
        "### Instruction for Asking Clarification Questions\n",
        "\n",
        "1. You should ask a question that \n",
        "    - understand user query, \n",
        "    - help generate the code with little ambiguity \n",
        "    - the reason for asking the clarification question (optional)\n",
        "2. Your clarification question can refer back to some code mentioned in the dialogue history.\n",
        "3. You should include at least 1 question that isn\u0027t a yes/no question.\n",
        "    - you can provide, for example, a \"wh\"/\"how\" question.\n",
        "4. You may also ask 2 yes/no questions at most. (but you don\u0027t have to)\n",
        "5. You should ask no more than 5 questions. So be selective of your questions.\n",
        "6. You should stop asking if you think you have provided enough details to generate the code. "
      ]
    },
    {
      "cell_type": "markdown",
      "metadata": {
        "pycharm": {}
      },
      "source": [
        "Before you turn this assignment in, make sure everything runs as expected. First, **restart the kernel** (in the menubar, select Kernel$\\rightarrow$Restart) and then **run all cells** (in the menubar, select Cell$\\rightarrow$Run All). Lastly, hit **Validate**.\n",
        "\n",
        "If you worked locally, and then uploaded your work to the hub, make sure to follow these steps:\n",
        "- open your uploaded notebook **on the hub**\n",
        "- hit the validate button right above this cell, from inside the notebook\n",
        "\n",
        "These  steps should solve any issue related to submitting the notebook on the hub.\n",
        "\n",
        "Make sure you fill in any place that says `YOUR CODE HERE` or \"YOUR ANSWER HERE\", as well as your name and collaborators below:"
      ]
    },
    {
      "cell_type": "markdown",
      "metadata": {
        "pycharm": {}
      },
      "source": [
        "**Round 1**"
      ]
    },
    {
      "cell_type": "markdown",
      "metadata": {
        "pycharm": {}
      },
      "source": [
        "Clarification:"
      ]
    },
    {
      "cell_type": "markdown",
      "metadata": {
        "pycharm": {}
      },
      "source": "What\u0027s your name?"
    },
    {
      "cell_type": "markdown",
      "metadata": {
        "pycharm": {}
      },
      "source": [
        "Answer:"
      ]
    },
    {
      "cell_type": "markdown",
      "metadata": {
        "pycharm": {}
      },
      "source": "`Vincent Chen`"
    },
    {
      "cell_type": "markdown",
      "metadata": {
        "pycharm": {}
      },
      "source": [
        "Reason:"
      ]
    },
    {
      "cell_type": "markdown",
      "metadata": {
        "pycharm": {}
      },
      "source": "It is mentioned in the intent to save the name of the engineer. The code needs the value of varaible \"NAME\"."
    },
    {
      "cell_type": "markdown",
      "source": "Clarification:",
      "metadata": {
        "pycharm": {
          "metadata": false
        }
      }
    },
    {
      "cell_type": "markdown",
      "source": "What are the name of your collaborators? ",
      "metadata": {
        "pycharm": {
          "metadata": false
        }
      }
    },
    {
      "cell_type": "markdown",
      "source": "Answer:",
      "metadata": {
        "pycharm": {
          "metadata": false
        }
      }
    },
    {
      "cell_type": "markdown",
      "source": "I have no collaborators. ",
      "metadata": {
        "pycharm": {
          "metadata": false
        }
      }
    },
    {
      "cell_type": "markdown",
      "source": "Reason:",
      "metadata": {
        "pycharm": {
          "metadata": false
        }
      }
    },
    {
      "cell_type": "markdown",
      "source": "Intent asks for the name of collaborators.  ",
      "metadata": {
        "pycharm": {
          "metadata": false
        }
      }
    },
    {
      "cell_type": "code",
      "execution_count": null,
      "outputs": [],
      "source": "",
      "metadata": {
        "pycharm": {
          "metadata": false,
          "name": "#%%\n"
        }
      }
    },
    {
      "cell_type": "code",
      "execution_count": 1,
      "metadata": {
        "pycharm": {}
      },
      "outputs": [],
      "source": "NAME \u003d \"Vincent Chen\"\nCOLLABORATORS \u003d \"\""
    },
    {
      "cell_type": "markdown",
      "metadata": {
        "pycharm": {}
      },
      "source": [
        "---"
      ]
    },
    {
      "cell_type": "markdown",
      "metadata": {
        "deletable": false,
        "editable": false,
        "nbgrader": {
          "cell_type": "markdown",
          "checksum": "78854885fbfb4c87634e0dbbd0564e59",
          "grade": false,
          "grade_id": "intro",
          "locked": true,
          "schema_version": 2,
          "solution": false
        },
        "pycharm": {}
      },
      "source": [
        "# Lab 8: Modeling and Estimation\n",
        "\n",
        "** If you are not attending lab, this assignment is due 03/12/2018 at 11:59pm (graded on accuracy) **\n",
        "\n",
        "In this lab we will work through the process of:\n",
        "1. implementing a basic model, defining loss functions, \n",
        "1. minimizing loss functions using numeric libraries, and \n",
        "1. finally bootstrap sampling to understand the variability in the parameter estimates.\n",
        "\n",
        "This lab will continue using the toy tip calculation dataset."
      ]
    },
    {
      "cell_type": "markdown",
      "metadata": {
        "pycharm": {}
      },
      "source": [
        "**Round 1**"
      ]
    },
    {
      "cell_type": "markdown",
      "metadata": {
        "pycharm": {}
      },
      "source": [
        "Clarification:"
      ]
    },
    {
      "cell_type": "markdown",
      "metadata": {
        "pycharm": {}
      },
      "source": "NA"
    },
    {
      "cell_type": "markdown",
      "metadata": {
        "pycharm": {}
      },
      "source": [
        "Answer:"
      ]
    },
    {
      "cell_type": "markdown",
      "metadata": {
        "pycharm": {}
      },
      "source": "NA"
    },
    {
      "cell_type": "markdown",
      "metadata": {
        "pycharm": {}
      },
      "source": [
        "Reason:"
      ]
    },
    {
      "cell_type": "markdown",
      "metadata": {
        "pycharm": {}
      },
      "source": "`code doesn\u0027t fit`"
    },
    {
      "cell_type": "code",
      "execution_count": 2,
      "metadata": {
        "_cell_guid": "33c63379-d85b-4638-8183-d008fdb96de7",
        "_uuid": "7ad7f9f24df7dba8ac92d234890835f6b9970834",
        "deletable": false,
        "editable": false,
        "nbgrader": {
          "cell_type": "code",
          "checksum": "81e2ff7a413ac63d2fb4eb0b850384a9",
          "grade": false,
          "grade_id": "imports1",
          "locked": true,
          "schema_version": 2,
          "solution": false
        },
        "pycharm": {}
      },
      "outputs": [],
      "source": [
        "import pandas as pd\n",
        "import numpy as np\n",
        "import seaborn as sns\n",
        "import matplotlib.pyplot as plt\n",
        "np.random.seed(42)\n",
        "plt.style.use(\u0027fivethirtyeight\u0027)\n",
        "sns.set()\n",
        "sns.set_context(\"talk\")\n",
        "%matplotlib inline"
      ]
    },
    {
      "cell_type": "markdown",
      "metadata": {
        "deletable": false,
        "editable": false,
        "nbgrader": {
          "cell_type": "markdown",
          "checksum": "c62623035fc4f79ae75314a6f33b9a9d",
          "grade": false,
          "grade_id": "loadsummary",
          "locked": true,
          "schema_version": 2,
          "solution": false
        },
        "pycharm": {}
      },
      "source": [
        "# Loading the Tips Dataset\n",
        "\n",
        "To begin with, we load the tips dataset from the `seaborn` library.  The tips data contains records of tips, total bill, and information about the person who paid the bill."
      ]
    },
    {
      "cell_type": "markdown",
      "metadata": {
        "pycharm": {}
      },
      "source": [
        "**Round 1**"
      ]
    },
    {
      "cell_type": "markdown",
      "metadata": {
        "pycharm": {}
      },
      "source": [
        "Clarification:"
      ]
    },
    {
      "cell_type": "markdown",
      "metadata": {
        "pycharm": {}
      },
      "source": "What is the name of tips dataset?"
    },
    {
      "cell_type": "markdown",
      "metadata": {
        "pycharm": {}
      },
      "source": [
        "Answer:"
      ]
    },
    {
      "cell_type": "markdown",
      "metadata": {
        "pycharm": {}
      },
      "source": "`tips`"
    },
    {
      "cell_type": "markdown",
      "metadata": {
        "pycharm": {}
      },
      "source": [
        "Reason:"
      ]
    },
    {
      "cell_type": "markdown",
      "metadata": {
        "pycharm": {}
      },
      "source": "The agent does not know the name of the dataset. "
    },
    {
      "cell_type": "code",
      "execution_count": 3,
      "metadata": {
        "deletable": false,
        "editable": false,
        "nbgrader": {
          "cell_type": "code",
          "checksum": "d1a323feb60ced6212eadbe279f7b1d1",
          "grade": false,
          "grade_id": "loaddata",
          "locked": true,
          "schema_version": 2,
          "solution": false
        },
        "pycharm": {}
      },
      "outputs": [
        {
          "name": "stdout",
          "output_type": "stream",
          "text": [
            "Number of Records: 244\n"
          ]
        },
        {
          "data": {
            "text/html": [
              "\u003cdiv\u003e\n",
              "\u003cstyle scoped\u003e\n",
              "    .dataframe tbody tr th:only-of-type {\n",
              "        vertical-align: middle;\n",
              "    }\n",
              "\n",
              "    .dataframe tbody tr th {\n",
              "        vertical-align: top;\n",
              "    }\n",
              "\n",
              "    .dataframe thead th {\n",
              "        text-align: right;\n",
              "    }\n",
              "\u003c/style\u003e\n",
              "\u003ctable border\u003d\"1\" class\u003d\"dataframe\"\u003e\n",
              "  \u003cthead\u003e\n",
              "    \u003ctr style\u003d\"text-align: right;\"\u003e\n",
              "      \u003cth\u003e\u003c/th\u003e\n",
              "      \u003cth\u003etotal_bill\u003c/th\u003e\n",
              "      \u003cth\u003etip\u003c/th\u003e\n",
              "      \u003cth\u003esex\u003c/th\u003e\n",
              "      \u003cth\u003esmoker\u003c/th\u003e\n",
              "      \u003cth\u003eday\u003c/th\u003e\n",
              "      \u003cth\u003etime\u003c/th\u003e\n",
              "      \u003cth\u003esize\u003c/th\u003e\n",
              "    \u003c/tr\u003e\n",
              "  \u003c/thead\u003e\n",
              "  \u003ctbody\u003e\n",
              "    \u003ctr\u003e\n",
              "      \u003cth\u003e0\u003c/th\u003e\n",
              "      \u003ctd\u003e16.99\u003c/td\u003e\n",
              "      \u003ctd\u003e1.01\u003c/td\u003e\n",
              "      \u003ctd\u003eFemale\u003c/td\u003e\n",
              "      \u003ctd\u003eNo\u003c/td\u003e\n",
              "      \u003ctd\u003eSun\u003c/td\u003e\n",
              "      \u003ctd\u003eDinner\u003c/td\u003e\n",
              "      \u003ctd\u003e2\u003c/td\u003e\n",
              "    \u003c/tr\u003e\n",
              "    \u003ctr\u003e\n",
              "      \u003cth\u003e1\u003c/th\u003e\n",
              "      \u003ctd\u003e10.34\u003c/td\u003e\n",
              "      \u003ctd\u003e1.66\u003c/td\u003e\n",
              "      \u003ctd\u003eMale\u003c/td\u003e\n",
              "      \u003ctd\u003eNo\u003c/td\u003e\n",
              "      \u003ctd\u003eSun\u003c/td\u003e\n",
              "      \u003ctd\u003eDinner\u003c/td\u003e\n",
              "      \u003ctd\u003e3\u003c/td\u003e\n",
              "    \u003c/tr\u003e\n",
              "    \u003ctr\u003e\n",
              "      \u003cth\u003e2\u003c/th\u003e\n",
              "      \u003ctd\u003e21.01\u003c/td\u003e\n",
              "      \u003ctd\u003e3.50\u003c/td\u003e\n",
              "      \u003ctd\u003eMale\u003c/td\u003e\n",
              "      \u003ctd\u003eNo\u003c/td\u003e\n",
              "      \u003ctd\u003eSun\u003c/td\u003e\n",
              "      \u003ctd\u003eDinner\u003c/td\u003e\n",
              "      \u003ctd\u003e3\u003c/td\u003e\n",
              "    \u003c/tr\u003e\n",
              "    \u003ctr\u003e\n",
              "      \u003cth\u003e3\u003c/th\u003e\n",
              "      \u003ctd\u003e23.68\u003c/td\u003e\n",
              "      \u003ctd\u003e3.31\u003c/td\u003e\n",
              "      \u003ctd\u003eMale\u003c/td\u003e\n",
              "      \u003ctd\u003eNo\u003c/td\u003e\n",
              "      \u003ctd\u003eSun\u003c/td\u003e\n",
              "      \u003ctd\u003eDinner\u003c/td\u003e\n",
              "      \u003ctd\u003e2\u003c/td\u003e\n",
              "    \u003c/tr\u003e\n",
              "    \u003ctr\u003e\n",
              "      \u003cth\u003e4\u003c/th\u003e\n",
              "      \u003ctd\u003e24.59\u003c/td\u003e\n",
              "      \u003ctd\u003e3.61\u003c/td\u003e\n",
              "      \u003ctd\u003eFemale\u003c/td\u003e\n",
              "      \u003ctd\u003eNo\u003c/td\u003e\n",
              "      \u003ctd\u003eSun\u003c/td\u003e\n",
              "      \u003ctd\u003eDinner\u003c/td\u003e\n",
              "      \u003ctd\u003e4\u003c/td\u003e\n",
              "    \u003c/tr\u003e\n",
              "  \u003c/tbody\u003e\n",
              "\u003c/table\u003e\n",
              "\u003c/div\u003e"
            ],
            "text/plain": [
              "   total_bill   tip     sex smoker  day    time  size\n",
              "0       16.99  1.01  Female     No  Sun  Dinner     2\n",
              "1       10.34  1.66    Male     No  Sun  Dinner     3\n",
              "2       21.01  3.50    Male     No  Sun  Dinner     3\n",
              "3       23.68  3.31    Male     No  Sun  Dinner     2\n",
              "4       24.59  3.61  Female     No  Sun  Dinner     4"
            ]
          },
          "execution_count": 3,
          "metadata": {},
          "output_type": "execute_result"
        }
      ],
      "source": [
        "data \u003d sns.load_dataset(\"tips\")\n",
        "\n",
        "print(\"Number of Records:\", len(data))\n",
        "data.head()"
      ]
    },
    {
      "cell_type": "markdown",
      "metadata": {
        "deletable": false,
        "editable": false,
        "nbgrader": {
          "cell_type": "markdown",
          "checksum": "059339244c1502ef21add6f29704eb22",
          "grade": false,
          "grade_id": "q1",
          "locked": true,
          "schema_version": 2,
          "solution": false
        },
        "pycharm": {}
      },
      "source": [
        "---\n",
        "\u003cbr\u003e\u003c/br\u003e\n",
        "\n",
        "# Question 1: Defining the Model \n",
        "\n",
        "In lecture we modeled the percent tip.  In this lab we will instead attempt to model the tip value (in dollars) as a function of the total bill.  As a consequence we define the following mathematical model:\n",
        "\n",
        "$$\\Large\n",
        "\\texttt{Tip} \u003d \\theta^*  \\times \\texttt{TotalBill}\n",
        "$$\n",
        "\n",
        "This follows the similar intuition that tips are some **unknown** percentage of the total bill.  We will then try to estimate the slope of this relationship which corresponds to the percent tip.\n",
        "\n",
        "Here the parameter $\\theta^*$ represents the true percent tip that we would like to estimate.  \n",
        "\n",
        "**Implement the python function for this model (yes this is very easy):**\n"
      ]
    },
    {
      "cell_type": "markdown",
      "metadata": {
        "pycharm": {}
      },
      "source": [
        "**Round 1**"
      ]
    },
    {
      "cell_type": "markdown",
      "metadata": {
        "pycharm": {}
      },
      "source": [
        "Clarification:"
      ]
    },
    {
      "cell_type": "markdown",
      "metadata": {
        "pycharm": {}
      },
      "source": "On which theta and total_bill value would you like to test the function?"
    },
    {
      "cell_type": "markdown",
      "metadata": {
        "pycharm": {}
      },
      "source": [
        "Answer:"
      ]
    },
    {
      "cell_type": "markdown",
      "metadata": {
        "pycharm": {}
      },
      "source": "theta \u003d 1.0 , total_bill \u003d 2.0"
    },
    {
      "cell_type": "markdown",
      "metadata": {
        "pycharm": {}
      },
      "source": [
        "Reason:"
      ]
    },
    {
      "cell_type": "markdown",
      "metadata": {
        "pycharm": {}
      },
      "source": "The assert code is not part of the intent. I tried to ask a question to cover that part of the code."
    },
    {
      "cell_type": "code",
      "execution_count": 4,
      "metadata": {
        "deletable": false,
        "nbgrader": {
          "cell_type": "code",
          "checksum": "87845bbb4ddbac2905629c675ed36094",
          "grade": false,
          "grade_id": "q1-answer",
          "locked": false,
          "schema_version": 2,
          "solution": true
        },
        "tags": [
          "student"
        ],
        "pycharm": {}
      },
      "outputs": [],
      "source": [
        "def model(theta, total_bill):\n",
        "    \"\"\"\n",
        "    Takes the parameter theta and the total bill returns the computed tip.\n",
        "    \"\"\"\n",
        "    ...\n",
        "    return theta * total_bill"
      ]
    },
    {
      "cell_type": "code",
      "execution_count": 5,
      "metadata": {
        "deletable": false,
        "editable": false,
        "nbgrader": {
          "cell_type": "code",
          "checksum": "d651e28358e2c9befd1f555c4da6e815",
          "grade": true,
          "grade_id": "q1-test",
          "locked": true,
          "points": 1,
          "schema_version": 2,
          "solution": false
        },
        "tags": [
          "test",
          "q01a"
        ],
        "pycharm": {}
      },
      "outputs": [],
      "source": [
        "assert model(1.0, 2.0) \u003d\u003d 2.0\n",
        "assert np.all(model(3.0, np.array([4.0, 5.0])) \u003d\u003d 3.0 * np.array([4.0, 5.0]))"
      ]
    },
    {
      "cell_type": "markdown",
      "metadata": {
        "deletable": false,
        "editable": false,
        "nbgrader": {
          "cell_type": "markdown",
          "checksum": "84587bc1d51e16f42f958a43162c3107",
          "grade": false,
          "grade_id": "q2",
          "locked": true,
          "schema_version": 2,
          "solution": false
        },
        "pycharm": {}
      },
      "source": [
        "---\n",
        "\u003cbr/\u003e\u003cbr/\u003e\u003cbr/\u003e\n",
        "\n",
        "# Loss Functions\n",
        "\n",
        "In class we covered a range of different loss functions.  In this lab we will implement the squared loss and the absolute loss functions.  \n",
        "Suppose for a given total bill $x$ we observe a tip value of $y$ and our model predicts:\n",
        "$$\\Large\n",
        "% the \\hspace{0pt} is added to address a bug in safari mathjax\n",
        "\\hat{\\hspace{0pt}y} \u003d \\theta * x\n",
        "$$ \n",
        "then any of the following might be appropriate **loss functions**\n",
        "\n",
        "1. **Squared Loss** (also known as the $L^2$ loss pronounced \"ell-two\"):\n",
        "$$\\Large\n",
        "% the \\hspace{0pt} is added to address a bug in safari mathjax\n",
        "L\\left(y, \\hat{\\hspace{0pt}y} \\right) \u003d \\left( y - \\hat{\\hspace{0pt}y} \\right)^2\n",
        "$$\n",
        "1. **Absolute Loss** (also known as the $L^1$ loss pronounced \"ell-one\"):\n",
        "$$\\Large\n",
        "% the \\hspace{0pt} is added to address a bug in safari mathjax\n",
        "L\\left(y, \\hat{\\hspace{0pt}y} \\right) \u003d \\left| y - \\hat{\\hspace{0pt}y} \\right|\n",
        "$$\n",
        "\n",
        "---\n",
        "\u003cbr\u003e\u003c/br\u003e\n",
        "In this question, you are going to define functions for **squared loss** and **absolute loss**. "
      ]
    },
    {
      "cell_type": "markdown",
      "metadata": {
        "deletable": false,
        "editable": false,
        "nbgrader": {
          "cell_type": "markdown",
          "checksum": "ef080b1728ad225211f0c8b8d5d3cb98",
          "grade": false,
          "grade_id": "q2a",
          "locked": true,
          "schema_version": 2,
          "solution": false
        },
        "pycharm": {}
      },
      "source": [
        "## Question 2a: Implement the squared loss function\n",
        "\n",
        "\n",
        "$$\\Large\n",
        "L\\left(y, \\hat{\\hspace{0pt}y} \\right) \u003d \\left( y - \\hat{\\hspace{0pt}y} \\right)^2\n",
        "$$"
      ]
    },
    {
      "cell_type": "markdown",
      "metadata": {
        "pycharm": {}
      },
      "source": [
        "**Round 1**"
      ]
    },
    {
      "cell_type": "markdown",
      "metadata": {
        "pycharm": {}
      },
      "source": [
        "Clarification:"
      ]
    },
    {
      "cell_type": "markdown",
      "metadata": {
        "pycharm": {}
      },
      "source": "Can you give me an example of inputs and outputs? "
    },
    {
      "cell_type": "markdown",
      "metadata": {
        "pycharm": {}
      },
      "source": [
        "Answer:"
      ]
    },
    {
      "cell_type": "markdown",
      "metadata": {
        "pycharm": {}
      },
      "source": "inputs: 2 and 1, output: 1"
    },
    {
      "cell_type": "markdown",
      "metadata": {
        "pycharm": {}
      },
      "source": [
        "Reason:"
      ]
    },
    {
      "cell_type": "markdown",
      "metadata": {
        "pycharm": {}
      },
      "source": "The assert code is not part of the intent. I tried to ask a question to cover that part of the code.    "
    },
    {
      "cell_type": "code",
      "execution_count": 6,
      "metadata": {
        "deletable": false,
        "nbgrader": {
          "cell_type": "code",
          "checksum": "c3fe7f116dfa1c22f45f69e6f057d937",
          "grade": false,
          "grade_id": "q2a-answer",
          "locked": false,
          "schema_version": 2,
          "solution": true
        },
        "tags": [
          "student"
        ],
        "pycharm": {}
      },
      "outputs": [],
      "source": [
        "def squared_loss(y_obs, y_hat):\n",
        "    \"\"\"\n",
        "    y_obs: an array of observed valued\n",
        "    y_hat: an array of predicted values\n",
        "    return an array corresponding to the loss for each prediction\n",
        "    \"\"\"\n",
        "    ...\n",
        "    return (y_obs - y_hat)**2\n",
        "    #return np.asarray([(y_obs[i] - y_hat[i])**2 for i in range(y_obs.shape[1])])\n",
        "    \n",
        "    "
      ]
    },
    {
      "cell_type": "code",
      "execution_count": 7,
      "metadata": {
        "deletable": false,
        "editable": false,
        "nbgrader": {
          "cell_type": "code",
          "checksum": "2ced3e8bc7ba2301755c978465cdd4e7",
          "grade": true,
          "grade_id": "q2a-test",
          "locked": true,
          "points": 1,
          "schema_version": 2,
          "solution": false
        },
        "tags": [
          "test",
          "q02a"
        ],
        "pycharm": {}
      },
      "outputs": [],
      "source": [
        "assert squared_loss(2, 1) \u003d\u003d 1\n",
        "assert squared_loss(2, 0) \u003d\u003d 4 \n",
        "assert squared_loss(5, 1) \u003d\u003d 16\n",
        "assert np.sum((squared_loss(np.array([5, 6]), np.array([1, 1])) - np.array([16, 25]))**2) \u003d\u003d 0.0"
      ]
    },
    {
      "cell_type": "markdown",
      "metadata": {
        "deletable": false,
        "editable": false,
        "nbgrader": {
          "cell_type": "markdown",
          "checksum": "9c0b5f98d75744bbf8315a94725491aa",
          "grade": false,
          "grade_id": "q2b",
          "locked": true,
          "schema_version": 2,
          "solution": false
        },
        "pycharm": {}
      },
      "source": [
        "## Question 2b: Plotting Squared Loss\n",
        "\n",
        "Suppose you observe $y\u003d3.00$ and $x\u003d28.00$ using the `model` and `squared_loss` function defined above plot the loss for a range of $\\theta$ values:"
      ]
    },
    {
      "cell_type": "markdown",
      "metadata": {
        "pycharm": {}
      },
      "source": [
        "**Round 1**"
      ]
    },
    {
      "cell_type": "markdown",
      "metadata": {
        "pycharm": {}
      },
      "source": [
        "Clarification:"
      ]
    },
    {
      "cell_type": "markdown",
      "metadata": {
        "pycharm": {}
      },
      "source": "NA "
    },
    {
      "cell_type": "markdown",
      "metadata": {
        "pycharm": {}
      },
      "source": [
        "Answer:"
      ]
    },
    {
      "cell_type": "markdown",
      "metadata": {
        "pycharm": {}
      },
      "source": "NA"
    },
    {
      "cell_type": "markdown",
      "metadata": {
        "pycharm": {}
      },
      "source": [
        "Reason:"
      ]
    },
    {
      "cell_type": "markdown",
      "metadata": {
        "pycharm": {}
      },
      "source": "Doesn\u0027t fit"
    },
    {
      "cell_type": "code",
      "execution_count": 8,
      "metadata": {
        "deletable": false,
        "editable": false,
        "nbgrader": {
          "cell_type": "code",
          "checksum": "8c228b03723d74aaaffc6da4c56c32d5",
          "grade": false,
          "grade_id": "q2b-setup",
          "locked": true,
          "schema_version": 2,
          "solution": false
        },
        "pycharm": {}
      },
      "outputs": [],
      "source": [
        "y \u003d np.array([3.00])\n",
        "x \u003d np.array([28.00])\n",
        "thetas \u003d np.linspace(0, 0.3, 200) # A range of theta values:"
      ]
    },
    {
      "cell_type": "code",
      "execution_count": 24,
      "metadata": {
        "deletable": false,
        "nbgrader": {
          "cell_type": "code",
          "checksum": "ee287571a91de2c470285fe5f05b6c29",
          "grade": false,
          "grade_id": "q2b-answer",
          "locked": false,
          "schema_version": 2,
          "solution": true
        },
        "tags": [
          "student"
        ],
        "pycharm": {}
      },
      "outputs": [
        {
          "data": {
            "image/png": "iVBORw0KGgoAAAANSUhEUgAAAZ8AAAD9CAYAAABjqXpxAAAABHNCSVQICAgIfAhkiAAAAAlwSFlzAAALEgAACxIB0t1+/AAAADl0RVh0U29mdHdhcmUAbWF0cGxvdGxpYiB2ZXJzaW9uIDIuMS4xLCBodHRwOi8vbWF0cGxvdGxpYi5vcmcvAOZPmwAAIABJREFUeJzt3Xl8HNWV6PFfL9olS9ZqLZbl9XrfF8AYjDEGs5odAg6Ql4RMMvMGMslkeXxeXmZLwmSbMGGSmZAAwRB2QgAvGDAYvFvebV3Zsi3Jtmzt+95d749uK8LISHZXd3VXn+/no4/squ7qc7q6dPpW3brXYRgGQgghRCg5rQ5ACCFE9JHiI4QQIuSk+AghhAg5KT5CCCFCToqPEEKIkHNbHQBATU1LQF3uHA4HGRlJ1NW1Ydfee5KjPUiO9iA5Dl1WVopjoOW2aPk4nb43ymmLbAYmOdqD5GgPkqMJ2w/OZoUQQojzk+IjhBAi5KT4CCGECDkpPkIIIUJOio8QQoiQk+IjhBAi5KT4CCGECDkpPkIIIT7lWFUz33ziE15aXxq015DiI4QQ4lNe2VBGXXMnpRUNQXsNKT5CCCH6HD/dzKFyX9FZOr8waK8jxUcIIUSfNVsrAMjNSGT+5BFBex0pPkIIIQCoaexge0k1ANctKMTpHHBMUFNI8RFCCAHAum2VGAakJsVy2bTgtXpAio8QQgigpb2bjXtPAbB0bgGxbldQX0+KjxBCCD4oPkl3r5e4WBeLZ+UH/fWk+AghRJTr7vGwfucJAK6ckUdSfEzQX1OKjxBCRLlP9lXR2tGDy+ngmrkjQ/KaQ5pGWyl1D/ANYAaQqLV291t3PfAtYDrgAvYD39dabzQ/XCGEEGbyeg3WbqsEYP6kbDJS40PyukNt+TQATwKPDLBuOPAEMA7IAp4HViulQlM+hRBCXLTi0hqqGzsAuG7BqJC97pBaPlrrtQBKqcUDrFt1zqL/Ukr9EzAXqBzK9gOdJ/xsX/Rg9km3muRoD5KjPdglR8MwWO2/qXTamHSKclP61gU7xyEVnwuhlJoOZOA7/TYkGRlJOByBJ5iWlhTwNsKd5GgPkqM9RHqO+8pqOVbVDMDdyyaSnp78mccEK0dTi49SKht4BXhca314qM+rq2sLuOWTlpZEY2MbXq9x8RsKY5KjPUiO9mCXHF9cVwLAqBEpFKTHU1/f2rfOrBwHKmhgYvFRSuUB7wLrgO9dyHMNw8DjCTwGr9fA44ncD8JQSI72IDnaQyTneLKmlT1H6gBYvqAQrxfgs7kEK0dTio9Sqgh4D3hda/0tM7YphBAieN7ZUg5AZmo8c1RWyF9/qF2tXUAMEOv//9m+eF2AAtYDT2utHwtGkEIIIcxT3djB1oO+AUSXXzIKVyDXPS7SUFs+K4E/9Pt/h//3aOA7QD7wiFKqf1fshwfoCSeEEMJia7aU4zUMUpNjuTzIA4iez1C7Wj8NPH2e1Q/5f4QQQoS5hpYuPt5XBcC18wqJCfIAoucjw+sIIUQUWbutgl6PQVK8m8Wz8iyLQ4qPEEJEidaOHjbsPgnA0rkjiY81/VbPIZPiI4QQUWL9jkq6e3zTJlw9p8DSWKT4CCFEFOjo6mX9Dt+0CVfNyic5IfjTJnweKT5CCBEFNuw6SXtXL26Xk2XzrB/3WYqPEELYXHePh7XbfeM8L5qRS1pynMURSfERQgjb27i3iua2bpwOB8vnF1odDiDFRwghbK3X42XNVt9QOpdMySEzLcHiiHyk+AghhI1tOXCGuuYuHMD1l4RusrjBSPERQgib8nqNvgFEZ6ss8jLDZ/4h6+4wMlGxriEpuRmVP8zqUIQQImzs0NWcrm8H4IZLw6fVAzYoPl09Hn71yl4M4PsrZzMuP83qkIQQwnJew+DNT44DMH1sBkUjwuvLecSfdot1OynM8c07/sbGYxZHI4QQ4WFHSTWnatsAuHnhaIuj+ayILz4Oh4MVi3xv7MHjDZRWNlockRBCWMtrGPzF3+qZNiaDMXnh1eoBGxQfgFkTMhmTlwrAnz+W1o8QIrrt1DWcPNvqubzI2mDOwxbFx+FwcO+1CoBD5dL6EUJEL69h8Kb/S/jUMemM9X8xDze2KD4AC6aMoDAnGZDWjxAiehX3a/XcEobXes6yTfFxOBzcumgMIK0fIUR08hoGf/6kX6snPzxbPWCj4gO+az+F2dL6EUJEp2Jdw8ma8G/1gM2Kj8Ph4JbLfW+4tH6EENHEd1+Pv9UzOrxbPWCz4gMwc7y0foQQ0adY13Ci5mwPt/Bu9YANi4+0foQQ0ab/aAZTRqczLsxbPWDD4gPS+hFCRJddpTWcqGkFwv9az1m2LD7S+hFCRItPtXqKhjOuIPxbPTDE4qOUukcptVEp1ayU6h1g/XVKqQNKqQ6l1H6l1DLzQ70w0voRQkSDnbqGympfqycSrvWcNdSWTwPwJPDIuSuUUmOA14AfAan+368rpYpMivGinNv6OVTeYGU4QghhOo/Xy+sfHQV89/WML4icUf2HNKWC1notgFJq8QCrHwB2aq2f8/9/lVLqa/7lPxzK9h0OB84ATgA6nY5P/T5rzsQsikakcPx0C69/dJQpD8zB4XAMtImwd74c7URytAfJMXQ27T/TN1/PHYvH4nKZF0+wczRjPp8ZwM5zlhX7lw9JRkaSKUUhLe2zs/Q9dPNUfvDfmzlysomjZ9qYN3lEwK9jpYFytBvJ0R4kx+Dq6fXy5ibfLKWXTc9lzpS8oLxOsHI0o/ikAE3nLGsEpgx1A3V1bQG3fNLSkmhsbMPrNT61blRmAhML0yipaOTpvxxgdE4Szghs/XxejnYhOdqD5Bga7+04QXV9Ow7gxksKqa9vNXX7ZuWYnp484HIzik8Lvms9/aUBzUPdgGEYeDyBB+L1Gng8n32Tbr1iDD96rpiK6la2HjjD/Ek5gb+YRc6Xo51IjvYgOQZPV4+nbwy3S6aMYER6UtDiCFaOZnS13gPMPmfZLP/ysDC+II3pYzMAeH3jMTxer8URCSHExXu/+ARNrd24nA5uWRQ5Pdz6G1LLRynlAmKAWP//4/2ruoBngW8rpe4FXgHuAOYAXzQ92gDcumgMe8vqOFPfzqZ9p1k0IzjnR4UQIpg6unp5Z7PvWs+i6blkpyVYHNHFGWrLZyXQAawFXP5/dwCjtNZlwG3AY/hOtT0G3Kq1Pm56tAEYNSKFeROzAXjzk2P09ErrRwgRedZtr6Stsxe3y8lNETKawUCG2tX6aeDpz1m/BlhjTkjBs2LRaHboauqau/hw90mWzh1pdUhCCDFkrR09rN1WAcCS2fkMT4mzOKKLZ8vhdc4nNyOJhVNzAXhr03G6uk3o5SCEECGyeks5nd0e4mJdXH/pKKvDCUhUFR+Amy8vwuV00Nzew/qdlVaHI4QQQ9LY2sV7O08AcM3ckQxLjLU4osBEXfHJTE1g8cx8AFZvqaC9s8fiiIQQYnBvbTpOd6+XxDg3182P/EsGUVd8AG68bBSxbiftXb2s3lphdThCCPG5qhva+XD3KQCWX1JIYnyMxREFLiqLT2pyXF9ng3d3VNLY2mVxREIIcX6vfXQUj9cgNTmWpXMiv9UDUVp8wPftISneTXePV6ZcEEKErWNVzWw7VA347leMi3VZHJE5orb4JMXHcONlRQB8tOcUp2rbrA1ICCHOYRgGL39wBIDcjEQWTovsgZH7i9riA7BkdgGZqfEYBryyoczqcIQQ4lP2Ha2jpMI3E/Odi8fhCmQE5jBjn0wuQozbyW1XjAFg95FadIVMOCeECA9er8HL/i/FEwpSmTEuw+KIzBXVxQdg/uQcRuWkAPDSB2UYhr1H4RVCRIZP9ldxssZ3OeDOJeMidiLM84n64uN0OLjrqrGA78LeDl1jcURCiGjX1ePhjY2+jlBzVRZj886dtSbyRX3xAZhUlM60Mb4m7asbyuj1yKCjQgjrrN9RSUNLFy6ng9uvHGt1OEEhxcfvzsVjcQDVjR1s2HXS6nCEEFGqpb2bd7b4pky4cmYeOemJFkcUHFJ8/Aqyk1k4zTfo6JufHKe9s9fiiIQQ0eitTeV0dPkGD705gqdMGIwUn35WLBpNjNtJa0cPq7eWWx2OECLKVDd28H6xb/DQ5QsKGZYU2YOHfh4pPv2kD4tn2Tzf0BXrtldS39xpcURCiGjy2odlvmF0kmK5dl6h1eEElRSfcyxfMIrkhBh6er28vvGo1eEIIaLEkRNNfcPo3LJotG2G0TkfKT7nSIx3c9PCIgA27TvN8dPN1gYkhLA9r2HwwnulABRkJbFoeq7FEQWfFJ8BXDUrn9yMRAzg+fWH5cZTIURQbTlwmmNVLQDce/V4Ww2jcz72z/AiuF1O7l4yHvA1hbeXVFsckRDCrrq6PX1jS84an8mkonSLIwoNKT7nMX1sBlPH+D4EL39whO4ej8URCSHsaPXWchpbu3E5Hdx11TirwwkZKT6f454l43E6HNQ1d7F2m8x4KoQwV11TZ99sytfMHWnbG0oHIsXnc+RlJrFkdj4Ab28pp6FFZjwVQpjnlQ/L6On1kpL41/nFooUUn0HcfPnovhlPZc4fIYRZjpxoYuvBM4BvhtLEeLfFEYWWKcVHKTVCKfWiUqpGKdWglHpfKTXDjG1bLTkhhhWLfHP+bD5wmrJTTRZHJISIdJ/pWj3D/l2rz2VWy+dJIB1QQA6wA3hLKWWLCSgWz8ojLzMJgD9J12shRICisWv1ucxq540D/lNrXQ+glHoK+DaQAdQO9mSHw0Eg773T6fjUb7O5XC6+cM14fvrCbspONbOtpJrLpoZ2LvVg5xgOJEd7kBw/n69rtW/0lNkTMpk6NjxnKA32fnSY8S1eKbUSuB+4D2gF/hWYr7VeNJTnG4ZhRMIsff/01Ba2HzxDRmo8v/nO1cTHRdc5WiFE4J5bc4gX3y3F7XLw628vIS8r2eqQgm3AP+5m/fX8BHgAqAE8QCWwfKhPrqtrC7jlk5aWRGNjG15v8E6J3XHFGIpLqqlr6uS5dw5wWwgneQpVjlaSHO1Bcjy/Mw3tvPb+EQCWzh1JvAvq61uDFWZAzNqP6ekDF9eAi49SygmsB9YAtwGdwBeBjUqpqVrrM4NtwzAMPCbcw+n1Gng8wfuwZ6UlsHRuAWu3VfL25gounTKC7OGh7Zcf7BzDgeRoD5LjZ61aW0qPx0tqUiw3XVYUEe9PsPajGVe50oHRwBNa62atdbfW+nf+bV9iwvbDys0LR5OaFEuvx8vz6w9bHY4QIkLsPlLLnrI6AO5aMo6EKD9tH3Dx0VrXAqXA15VSSUopt1LqS0AKsC/Q7YebhDg3dy/xDYGxt6yO3YcH7U8hhIhyPb0eXljv61o9oSCVSybnWByR9czq37cCX+unHKgDvgHcqbW25YQ4CybnoEamAfD8+lIZ900I8blWb6mgprETp8PBfcsUkdDBKthMafdprQ8BN5qxrUjgcDi4b9kE/t/vt1Pb1Mk7W8r7bkQVQoj+aho7eHtLOQBLZuczMtv2vduGJPrubDJJQVYyS+cWAPDOlgqqGzssjkgIEY7+9N5henq9DEuMYcWi0VaHEzak+ATglsv/2vnghXdLrQ5HCBFm9pbVsct/XfjOq8aRGB9jcUThQ4pPABLi3Nzl73ywRzofCCH66e7x8Lz/S+m4/FQuDfGoKOFOik+ALpmcw4R+nQ+6pPOBEAJ4a3M51Y0dOB0O7l82Aad0MvgUKT4Bcvg/WC6ng9qmTt785JjVIQkhLHaqto3V/k4GS+cWUJiTYnFE4UeKjwkKspK5dn4hAOu2VXKiOjyHyxBCBJ9hGPxxrcbjNUgfFiedDM5Dio9JblpYRGZqPB6vwTNrSvDKtAtCRKVN+0+jKxsBuG/pBOJjo3skg/OR4mOSuBgXK69VAJSdauaj3acsjkgIEWqtHT286B84dNb4TGZNyLI4ovAlxcdE08ZkMH9SNgAvbyijqbXL4oiEEKH00gdHaO3oIS7GxX3XTLA6nLAmxcdk91w9noQ4Nx1dvfzJ/w1ICGF/pZWNfLy3CoAVi0aTPize4ojCmxQfk6Ulx3HHlb6hdrYePMP+o3UWRySECLaeXi/PrCkBoDD7r6OfiPOT4hMEV87KZ0zeMACeXavp6pZ7f4Sws7c3H6eqrh0HsPI6hSuQ2TGjhLxDQeB0OHjguol99/68vtGWg3sLIYAT1a28vfnsPT0jGZuXanFEkUGKT5CMzE5m+SWjAHh3RyVlp5osjkgIYTav1+APqw/h8RpkpsZz2xUyuv1QSfEJopsuKyI3IxHDgD+8U0JPr9fqkIQQJlq3vZJjVS0APHDdROJiXRZHFDmk+ARRjNvJQ9dPwoFvuI23Nx+3OCIhhFlO17Xx6oYyABZOG8GU0ekWRxRZpPgE2bj8VK7293x5e3O5DL0jhA0YhsETL+2mu9fLsKRY7l4y3uqQIo4UnxC47YoxfUPv+M4Py+k3ISLZxj1V7D3im0Ll/msmkJwg8/RcKCk+IRAf6+aB6yYCcKyqhXe3n7A4IiHExWpo6eKF9w4DMEdlMUfJEDoXQ4pPiEwZnc7l03MBeH3jUU7Xt1sckRDiQhmGwdOrS2jv7CUpIYaV1yocMk/PRZHiE0J3LxlHWnIsPb1ennrrIF6vjHwtRCTZuLeKff5RS766YhrDU+IsjihySfEJoaT4GB5cPgnwjXy9ZluFxREJIYaqtqmDP/lPt82ekMlVc2QInUBI8Qmx6WMzuGKG7/TbGxuPcqJGer8JEe4Mw+AP75TQ2e0hOSGGB5dPlNNtAZLiY4G7l4wnY1gcvR6D3711kF6P9H4TIpxt2HWSQ+UNANy/bAKpyXK6LVBSfCyQEOfmS9f7Tr9VnGnlrU3HrQ1ICHFe1Y0dvPSB72bSuROzmT8px+KI7MG04qOUWqqU2qKUalVK1SqlnjRr23Y0qSidq2f/9ebT46ebLY5ICHEur2Hw+7cP0dXjYVhiDCuXyQRxZjGl+CilFgOvAD8FMoAC4HdmbNvO7lg8luzhCXi8Bk+9dYieXpl6QYhwsm5bJaWVjQCsvHYiKYmxFkdkH26TtvMj4Dda61f6LSse6pMdDgeBTH/hdDo+9TtSJCa4+cpNk/m3Z3dysraN1z46yhfOM/VupOZ4ISRHe7BLjhVnWnj1Q9/ptsumjWD+5Oy+dXbJ8fMEO0eHYQR2r4lSKgloBv4ZuBkoBPYD39Ja7xjKNgzDMKK558gzbx/klfd9XTh/+NVLma2yB3mGECKYuno8PPqLD6k800J2eiJP/MNiEuNlCJ2LNOAfdzOKTwFQCZwClgMlwLeAR4AJWuvGwbZRW9tqBNrySUtLorGxLSJv3Oz1ePnnp3dw/HQLacmx/MtXFnymeR/pOQ6F5GgPdsjxuXWad7efwOGA76+cw4SRaZ9ab4ccB2NWjunpyQMWHzNOu7X4f/9Ba70XQCn1I+DbwGXAO4NtwDAMPCZc7vB6DTyeyPsgOHDwlZsm88Ont9PY2s1Tbx3ib2+bNuB9BJGa44WQHO0hUnPcf7Sub/zFGy4dxdi81PPmEak5Xohg5RhwhwOtdRNwHBgoOnvvFRPlZiRxz9W+Ydl3Ha5l494qiyMSIvq0tHfz1NuHACgakcLNC0dbHJF9mdXV+kngIaXUZKWUG1+rpxPYZNL2o8KVM/KYNT4TgOfXl8rgo0KE0NlBQ5vauomNcfLVm6fgdsmtkMFi1jv7U+D3wPtALb5rP8v9rSIxRA6HgweWTyQ1KZbuHi///eYBGf1AiBD5cM8pdh32zdFzz5LxjEhPtDgiezOlq7XW2gD+r/9HBGBYYixfumESv3hpD8dPt/D6R0e586pxVoclhK2dqG7lhfW+Hqczx2Vy5cw8iyOyP2lThqFpYzK4Zu5IAFZvrWBvWZ3FEQlhX13dHv7rz/vp6fUyPCWOL90wSQYNDQEpPmHqzqvGUjQiBYDfvXWQ+uZOiyMSwp5WrS+lqq4dhwMevnmKTIkdIlJ8wpTb5eRrt0whIc5Fa0cPv/nzATxy/UcIU205cJqP/T1LVywa85n7eUTwSPEJY9nDE/smn9MVjfzp3VKLIxLCPs7Ut/PMWg3ApFHDueGSURZHFF2k+IS5eROzuWpWPgAvrtccPF5vcURCRL6eXi+/+fMBurp9o1V/9abJth6nLRxJ8YkA91w9jpHZyRgG/OaNAzS1dVsdkhAR7cX3D1N+xjc4y5dvmiyTw1lAik8EiHG7+MZtU4mPddHU1s1v/7wfj1eu/whxMTYfOM37xScB3/A5U0dnWBxRdJLiEyFyM5L4xp0zASipaOS1D49aHJEQkedEdSvPrC4BfNd5ViyS4XOsIsUngiyeXcA1c32zn67eWsFOXW1xREJEjvbOXn79+j66/ffzPHzzFFyBDKcvAiLvfIS5Z+l4xuYPA+Cptw9RVddmcURChD/DMPj9O4c409CBy+ngb1ZMZViSzEpqJSk+EcbtcvL1FdMYlhhDZ7eHX7++n87uXqvDEiKsrdlWQXFpDQD3XD2ecfmpFkckpPhEoOEpcXztlqk4HQ5O1bbx9OoSAp0UUAi7Kilv4JUNvumwF0zOYcnsfIsjEiDFJ2JNHDWcOxaPBWDboWre3V5pcURChJ/axg6efGM/hgH5mUk8eN1EGbctTEjxiWDXzh/JHJUFwIsfHGH/MRmAVIizuro9/OrVfbR29JAQ5+Ybt00jLtZldVjCT4pPBHM4HHzp+knkZyX13YB6RiagEwLDMHjq7YOcqGnF4YCv3TJF5ucJM1J8IlxCnJv/fft0khNiaO/q5Vev7qW9UzogiOj2l03H2aF9HQzuXDyOaWPkRtJwI8XHBrLSEvj6iqm4nA6q6tr5778cwOuVDggiOhWX1vDGxmMAXDolh2vnj7Q4IjEQKT42MXHUcL5wzQQA9pbV8eqHZRZHJETonahp5X/eOgjA6NwUHpAOBmFLio+NXDUrv28E7NVbK9i0v8riiIQInaa2bn71yl66uj2kJsfyt7dNJzZGOhiEKyk+NnPv0vFMLPRNiPX06hJ0RYPFEQkRfF09Hn71yl5qmzpxu5z87a3TGJ4iI1WHMyk+NuN2OfmbFVPJHp5Ar8fgP1/bJ0PwCFvzGga/e+sgx6qaAfjyjZMYKyMYhD0pPjaUkhjLo3fOIDkhhrbOXn758h6aZQ4gYVOvbChjp79n2+1XjmH+pByLIxJDIcXHpnLSE/m726fhdjmpaezkV6/upbvHY3VYQphqw66TrNlaAcAVM3K5XqbCjhhSfGxsfEEaX75xEgBHTzXzP385iFfGgBM2se9oHc+tKwVgStFw7l+mpGdbBDG1+CilnEqpTUopQylVYOa2xcWZPymnbwy4naU1vPT+EYsjEiJwx0838+Qb+/EaBvmZSfzNCl8rX0QOs/fWo4CM7xJmli8o5MqZeQCs217J6q3lFkckxMU7U9/OL17a09el+u/vnE5ivNvqsMQFMm2PKaUmAF8Hbgd2XchzHQ4HgUwo6HQ6PvXbjgLL0cEDyxVNrd3sPlLLyx+UMSwplitm5JkbZIBkP9pDMHNsaOniZy/upqW9h8Q4N9+6ZyY5FozZJvsxcA4z5oFRSjmBj4CfA8XAMWCk1vrEUJ5vGIYh52qDr6vHw//97SYOHqvH6YDvPjCfS6flWh2WEEPS2tHD9379Mcermol1O/mnhy9jiozZFgkG/ONuVvF5FFiotb5DKVXEBRaf2tpWI9CWT1paEo2NbbYd08ysHNs6e/jRH4uprG4lxuXkH+6dyaRRw02M9OLJfrSHYOTY3ePh31/YRWllE06Hg7+7YxqzJ2SZsu2LIftx6NLTkwcsPgGfdlNKjQP+AZh7sdswDAOPCb2AvV4Dj8eeH4SzAs0xPsbNo3fN4EfP7aSmsZNfvrSH73xhNqNGpJgYZWBkP9qDWTn2erw8+fp+SiubAHjgOsWMsZlh8f7Jfrx4ZnQ4uBzIAvYrpWrxnXYD2KuU+roJ2xcmS0uO4x/unsmwpFg6uz384qXdMgqCCEter2/0gt1HagG4Y/FYFoXZtUpxccwoPi8BY4GZ/p/r/cuXAc+asH0RBNnDE/nmXTNIiHPR3N7D4y/skonoRFjxGga/f+cQ2w5VA3DdgkKWLyi0OCphloCLj9a6XWt94uwPcNq/6rTWujXQ7YvgKcxJ4dG7ZhIX66KptZvHX9hFTWOH1WEJgWEYPLtGs2m/78/J0jkF3Ll4rNxEaiOm35WltT6utXYMtbOBsNa4/FQevXMGsTFOGlq6ePz5XdQ1dVodlohihmHw/PrDfLTnFACLZ+Zx79LxUnhsRm4JFkwYmcbf3z6dGLeTuuZOHn+hmIaWLqvDElHIMAxe3lDGezt9310XThvB/dfKsDl2JMVHADCpKN0/EKmDmsZOHn9hlxQgEVKGYfDyB2V9A4XOn5TNQ8sn4ZTCY0tSfESfqaMz+Mat03A5HZypb+fHq3ZS2yTXgETweQ2D5989zJptvsIzR2Xx5Rsn23oEgWgnxUd8yoxxmXzjtr+2gH68qpgzDdILTgSP12vw7JoS3iv2nWpbMDmHr90yRQYKtTnZu+IzZo7L5O/vmEGs20l9cxc/XlXMyVq5D0iYz+P18tTbB/loTxXgu8bzlRsn4wpkyBMREWQPiwFNGZ3Oo3fN6OuG/ZNVxVScabE6LGEjvR4vv33zIJsPnAFg8ax8Hrp+kpxqixJSfMR5qcLhfOuemSTGuWnt6OHx53dx5GST1WEJG+js7uVXr+5lR4nvBtKlcwtYuWyCdC6IIlJ8xOcam5fKP35hFskJMbR39fLTF3ax+3Ct1WGJCNbS3s2/v7Cb/UfrAbjh0lHce7XcxxNtpPiIQRXmpPC9+2eTMSyO7l4vT7y2t+8GQCEuRG1jB//2XDHHqpoBuOfq8dx+pYxcEI2k+Ighyc1I4vsr51KQlYxhwNOrS3jz42OYMSWHiA6V1a3863M7OVPfjsvp4OGbp7Bs3kirwxIWkeIjhmx4ShzfvW82EwvTAHjj42M8u1bj8XotjkyEu0PlDfx41U6aWruJi3XxyF0zWDA5x+qwhIWk+IgLkhjv5tG7ZjJvYjYAH+4+xa9e2Ud7Z6/FkYlw9eHuk/z8xd10dHlg4ThGAAAPnUlEQVQYlhjDd74wiylF6VaHJSwmxUdcsBi3k4dvmcLSuQUA7Dtax7/+cQfVcjOq6MfrNfjTe4d5Zo3G4zXIzUjk+yvnUDRimNWhiTAgxUdcFKfDwReWTujrHltV186/PLsTXdFgdWgiDLR39vDLl/ewbnslAFOKhvN/Vs4he3iixZGJcCHFRwTkqtkFfPPuGSTF++4F+umfdktPuChX09jBPz6xkT1H6gC4anY+j9w1g8T4GIsjE+FEio8I2OSidB774lxGpCfi8Ro8vbqEVetK6fVIR4Ros/9oHT/4/TbKT7fgdDi475oJrFymZLgc8RnyiRCmyElP5LEvzmHKaN+F5PeKT/DjVcUyMV2U8BoGb358jF+8tIe2jl6SEmL45t0zuHpOgdWhiTAlxUeYJjE+hkfunM71l4wC4OipZn749Hb2H62zODIRTK0dPfzHy3t54+NjGMConBR++eiVTBubYXVoIoxJ8RGmcjmd3LF4LH93+zQS/GPC/eKlPbyx8Sher9yQajfHqpr54R+2s8//BWPR9Fwee3AOIzKSLI5MhDspPiIoZo3P4gcPzaMwJxkDePOT4/zsxd3UN8tpODvwGgart5Tzb3/cSV1zJ26XkweXT+Sh6ycR63ZZHZ6IAFJ8RNBkpyXwf1bO4YoZeYDvLvcf/H4b2/0jGYvIVN/cyU9f2MXLG8rweA2y0uI/tZ+FGAq31QEIe4txu3hw+UQmjRrOH9dq2jp7+a839rNn6gjuu2YCCXHyEYwk20uqeWZ1Ce1dvhEtLp+Wy71Lx8t+FBdMPjEiJBZMzmF8QSq/e+sgJRWNbNp/mtLKRr5842QmjEyzOjwxiLbOHl5Yf5hN+08DkBjn5oHlE/uGWRLiQknxESGTPiyeb907i3XbKnn1wzJqmzr5yapirpqdz+1XjiU5UW5CDEc7SqpZ9W4pTW3dAEwsTOPLN04mfVi8xZGJSCbFR4SU0+HgugWFTC4azv+8dZCTNW28X3ySXYdreeA6xdWXJFsdovBrbO1i1bpSdpbWABDrdrJi0RiWzRspU12LgJlSfJRSPwFuBEYCrcDbwHe01vVmbF/YT2FOCj94cB6rt5Tzl03HaWjp4pcv72VHaS13LR5DckKs1SFGLa9h8PHeKl56/0jftZ2JhWk8uHyijM0mTGNWy8cD3A/sB9KAZ4E/ALeYtH1hQ26Xk5sWjmbuxGyeWV1C6YkmPt5zimJdzc0LR7Nkdj5ul3TIDKWyU008/+7hvplGE+Lc3L1kHIum58pso8JUjmDMRKmUugF4XmudOpTH19a2GoEM/eR0OkhLS6Kxsc22NzLaPUevYfDR7lO8+P6RvrmBcjMSuXfpeGaMy7Q4OvOE635sbOni5Q1lfLy3qm/ZXJXF/dcqhqfEXdC2wjVHM0mOQ5eenjzgt5ZgFZ+fA/O01ouG8njDMAz5ViUAGpo7+ePqQ6zfXsHZj+acidn8r5unMjInxdrgbKirx8NbG4/y4npNR5cHgMIRKXzllqnMnCA92YQpQlN8lFK3A08DV2qti4fyHGn5DC7aciw72cSqdaUcPtHkW+dwcPn0XG5ZVERmaoLFkV68cNmPvR4vH+0+xZuf+K63gW+W2tuuGMOSOfkBjUIdLjkGk+Q4dOdr+Zja200pdSfwW+DmoRYeAMMw8HgCf32v18DjsecH4axoybEwO4Xv3jeb7SXVvPTBEeqbu/hozyk+2VfFFTPyuPGyogs+HRROrNqPXq/B5gOn+fPHx6j1jzjudDi4YmYety4aTUpiLBiYElu0fFYlx4tjWvFRSj0E/Ay4SWv9iVnbFdHL4XAwf1IOM8dlsmH3Kd7ZfJzm9h4+2HWSjXurWDwzj2vnF5KRKvebDKan18vWg2dYvbWcqjrfdOcOYMGUHG65fDQ50otNhJhZXa3/N/AD4Fqt9XYztinEWbExLpbNG8mVM/J4f9cJVm+poLWjh/U7T/B+8UnmTcpm2byRjM4dZnWoYaets4cNu06yfucJmlq7+5bPUVmsuHw0+VlyX5Wwhlktn/8AeoEPlFJ9C7XW8skWpomLdbF8wSgWz8xn/c4TvLu9ktaOHrYePMPWg2eYUJDKsvmFzByXGfU3QZ6pb+e94hNs3FNFV4/vnLYDmK2yuOHSURSNkEItrGVK8dFaR/eRLkIqIc7NTZcVce28kWw+cJp12yupqmun9EQTpSf2MTwljsumjuDy6blRdTqpq8fDTl3NR3uqKK1s7Fse63Zy+fRcls0bKTeJirAhw+uIiBUb4+LKmfksmpHH/qN1rN1WyaHyBhpaunh7czlvby5nwsg0Fk3PZfaELFuOvOw1DI6ebGbzgdNsOXi6r7s0QGpyLEtm5XPV7AKSE2TcPBFe7Hc0iqjjdDiYPjaT6WMzOVXbxsf7qti0/zTNbd2UVjZSWtnIM2s0k4uGM2dCFjPHZ/p6dUUor9egtLKRnbqGnaXVNPa7luN0OJgxLoNF0/OYNjY9oC7TQgSTFB9hK3mZSdx11Thuu2IM+4/Ws3HvKfaW1dHr8bK3rI69ZXU41oAamca0sRlMLBzOqJyUsL9G1NDSxaHyeg4db2Dv0Tpa2ns+tX5EeiILp41g4bRc0pIjtwu6iB5SfIQtuV1OZo7PZOb4TFo7ethzpJbi0hr2H6unp9dLSUUjJRW+6yIJcW7UyDQmFqYxfmQaBVlJxFg4FbRhGNQ0dnD8dAullY0cKm/o6x7dX0FWEnNUNnNVFnmZSTL2mogoUnyE7SUnxLBwWi4Lp+XS1e1h39E6dh2u5VB5PY2t3XR09bL7SC27j9QCvlNXuRmJFOYkMzI7hYLsJLJSE0gfFk+M27zTWF7DoKm1m9qmDqobOjhR00r56RbKz7TS4R9Nur8Yt5Nx+alMGZ3O7AlZjEiXzgMicknxEVElLtbF3InZzJ2YjWEYnGnooKS8gZKKBkoqGmlu68ZrGJysbeNkbRubD5z51PPTkmPJTE0gfVgciXFuEuLdJMb5fuJjfYeTgdE3Lp3Xa9DR1UtbZy9tnT10dPXS5TE4XdtKTWMnPb3e88bqdjkZNSKZSaOGM2lUOuPyh1naIhPCTFJ8RNRyOByMSE9kRHoii2flYxgGDS1dVJxppaK6xff7TEvfMDQAja3dvgv8J82NJTHOTW5mIkU5wygckcyonBTyMpNkSglhW1J8hPBzOBykD4snfVg8M8f/dRqHnl4P9c1d1DR1UNvUSV1TJw0tXXR09dLR1Ut7Zy/tXb10dvtv5nT8dRhfh8NBQpybpHg3SQkxJCXEkJGaQGKci8xh8WSlJZCZFk9SvHSFFtFFio8Qg4hxu8hJTyTHhGssLpeD9PRk6utbbT8gpRCfR9r0QgghQk6KjxBCiJCT4iOEECLkpPgIIYQIOSk+QgghQk6KjxBCiJCT4iOEECLkpPgIIYQIOYdhyI1uQgghQktaPkIIIUJOio8QQoiQk+IjhBAi5KT4CCGECDkpPkIIIUJOio8QQoiQk+IjhBAi5KT4CCGECDkpPkIIIUJOio8QQoiQc1sdwECUUi7gx8CDQDywDnhYa117nsdfB/wMGAOUAd/UWq/rt34c8BvgUqAB+IXW+mfBzGEwQcjRADoAb7+n5Wutm4KSwBBcSI5KqXzgSWAmUAis1Fo/d85jsvHtx2uATuD3wPe01l4sEoQcjwMjgN5+iy/VWu8LQvhDcoE5Xg98C5gOuID9wPe11hv7PSaij8ch5hjpx+Mi4D+AInw5lgH/orV+rd9jAtqP4dry+S5wC7AAKPAv++NAD1RKjQFeA34EpPp/v66UKvKvdwF/AQ4BWcDNwHeUUncHMf6hMC3HfpZprZP7/Vj2Qfcbco74DtJ1wBeAE+d5zCr/7wL/Nm8Fvm1KpBfP7BwBvnzOfrSs8PhdSI7DgSeAcfiOt+eB1UqpkWCP45FBcuwnko9Hje/4ygDSgEeA55RSk8Cc/RiuxeerwE+01kf9O+wfgesG+GML8ACwU2v9nNa6W2u9Cij2Lwe4AhiF7xtyu9a6GPgt8LWgZ/H5zMwxXA05R611ldb611rrTwDPueuVUqOBpcC3tdZNWuujwE+IoP04WI5h7EJyXKW1fl1r3ai17tVa/xe+FsBc/0Mi/ngcQo7h6kJyrNZal2utDcCB74uTE1/BBRP2Y9gVH6VUKr5TEjvPLtNalwHN+Jq555rR/7F+xf7lZ9eXaq1bz7M+5IKQ41kvK6VqlVJblVK3mRjyBbuIHAczA2jyb+OsYqBIKTUskFgvVhByPOvnSql6pdRupdTDAYYZkEBzVEpNx/fteb9/kR2Ox3Off26OZ0X88aiUagS6gI3AVnwtdzBhP4Zd8QHO/iE5t4na2G9dfymDPHaw9VYwO0fwtQpG42tO/xxY5b9OZJULzXEw53sP+r9WqJmdI/has2OAHHynFP/N4gJ00Tn6r9G9AjyutT7sX2yH47HPeXIEmxyPWus0IBnfKbh3+Ou1yID3Yzh2OGjx/049Z3kavio90OM/77GDrbeC2TmitX6v37oXlVJLgfuANYGFetEuNMehbG+gbfV/rVAzO0e01h/2+++7SqmfA/fjO6VhhYvKUSmVB7yL75vy987ZXqQfj8Dn5mir41Fr3QW8oZR6B1+B+S0m7Mewa/lorRuBCmD22WX+C+7DgL0DPGVP/8f6zfIvP7t+glIq6TzrQy4IOQ7Ei+9crSUuIsfB7AFS/ds4axZw3KoLuUHIcSARtx/91xA2Aqu11n/rv25wlh2Ox8FyHEjE7ccBuIHx/n8HvB/DseUD8N/4ek58ANThu7C8Vmt9fIDHPgt8Wyl1L77m7x3AHOCL/vUfAeX4Tl98F1DAw8DfBzWDwZmWo1JqKpAI7AYM4AZgJXBPkHMYzIXkiFIq3v9PBxDj/3+v/6LuMaXUeuBxpdSX8J1j/w7WtQjOMi1HpdQofKfcNgM9wOXAo8A/BzeFQQ05R6XURGA98LTW+rEBthXxx+NgOdrheFRK3Q6U4uvN5sYX/xLg3/0PCXg/hl3Lx+/H+LrxbQdO4utnfj+AUuo+pVTfRS7/RbPbgMfwNfkeA249+4ZqrT3ATcBUfG/4O8C/a63/FKpkzsO0HPF1dfwDvr721f71X9JavxmSTM5vyDn6dfh/CvHdw9OBL5ez7sP3mT3p3+afgceDGP9QmJljEr7rAzX49uWvgX/SWj8R5BwGcyE5fgfIBx5RSrX2+7kP7HE8MkiO2ON4zMV3e0cjcAr4EnCv1vpdMGc/OgxjsNaiEEIIYa5wbfkIIYSwMSk+QgghQk6KjxBCiJCT4iOEECLkpPgIIYQIOSk+QgghQk6KjxBCiJCT4iOEECLk/j8PTSe49FzLtwAAAABJRU5ErkJggg\u003d\u003d\n",
            "text/plain": [
              "\u003cmatplotlib.figure.Figure at 0x7f6d6e527ef0\u003e"
            ]
          },
          "metadata": {},
          "output_type": "display_data"
        }
      ],
      "source": [
        "## Finish this by replacing 0.0 with the correct calculation \n",
        "## Hint 1: You will use squared_loss y, model, theta and x\n",
        "## Hint 2: You might need to extract a single value from an array (or take the mean)\n",
        "loss \u003d np.array([squared_loss(y, model(theta, x)).mean() for theta in thetas])\n",
        "\n",
        "plt.plot(thetas, loss);"
      ]
    },
    {
      "cell_type": "code",
      "execution_count": 10,
      "metadata": {
        "deletable": false,
        "editable": false,
        "nbgrader": {
          "cell_type": "code",
          "checksum": "cd9c6bf3c012a20819511947fd7e4f5d",
          "grade": true,
          "grade_id": "q2b-test",
          "locked": true,
          "points": 1,
          "schema_version": 2,
          "solution": false
        },
        "tags": [
          "test",
          "q02b"
        ],
        "pycharm": {}
      },
      "outputs": [],
      "source": [
        "assert loss.dtype \u003d\u003d np.dtype(\u0027float64\u0027) "
      ]
    },
    {
      "cell_type": "markdown",
      "metadata": {
        "deletable": false,
        "editable": false,
        "nbgrader": {
          "cell_type": "markdown",
          "checksum": "b378ce2a0923d0d16e24c993f2a232f7",
          "grade": false,
          "grade_id": "q2b-plot",
          "locked": true,
          "schema_version": 2,
          "solution": false
        },
        "pycharm": {}
      },
      "source": [
        "The following should produce this picture:\n",
        "\n",
        "![squared_loss](squared_loss.png)"
      ]
    },
    {
      "cell_type": "markdown",
      "metadata": {
        "pycharm": {}
      },
      "source": [
        "**Round 1**"
      ]
    },
    {
      "cell_type": "markdown",
      "metadata": {
        "pycharm": {}
      },
      "source": [
        "Clarification:"
      ]
    },
    {
      "cell_type": "markdown",
      "metadata": {
        "pycharm": {}
      },
      "source": "NA  "
    },
    {
      "cell_type": "markdown",
      "metadata": {
        "pycharm": {}
      },
      "source": [
        "Answer:"
      ]
    },
    {
      "cell_type": "markdown",
      "metadata": {
        "pycharm": {}
      },
      "source": "NA"
    },
    {
      "cell_type": "markdown",
      "metadata": {
        "pycharm": {}
      },
      "source": [
        "Reason:"
      ]
    },
    {
      "cell_type": "markdown",
      "metadata": {
        "pycharm": {}
      },
      "source": "Doesn\u0027t fit"
    },
    {
      "cell_type": "code",
      "execution_count": 11,
      "metadata": {
        "deletable": false,
        "editable": false,
        "nbgrader": {
          "cell_type": "code",
          "checksum": "e6cdf0b25a0a3ef99acff0308982965e",
          "grade": false,
          "grade_id": "q2b-makeplot",
          "locked": true,
          "schema_version": 2,
          "solution": false
        },
        "tags": [
          "student",
          "written"
        ],
        "pycharm": {}
      },
      "outputs": [
        {
          "data": {
            "image/png": "[encoded data removed]",
            "text/plain": [
              "\u003cmatplotlib.figure.Figure at 0x7f6d76e932e8\u003e"
            ]
          },
          "metadata": {},
          "output_type": "display_data"
        }
      ],
      "source": [
        "plt.plot(thetas, loss, label\u003d\"Squared Loss\")\n",
        "plt.xlabel(r\"Choice for $\\theta$\")\n",
        "plt.ylabel(r\"Loss\")\n",
        "plt.legend(loc\u003d4)\n",
        "plt.savefig(\"squared_loss_my_plot.png\",  bbox_inches \u003d \u0027tight\u0027)"
      ]
    },
    {
      "cell_type": "markdown",
      "metadata": {
        "deletable": false,
        "editable": false,
        "nbgrader": {
          "cell_type": "markdown",
          "checksum": "5326dfad73049ecfe03bd58c6b197bd4",
          "grade": false,
          "grade_id": "q2c",
          "locked": true,
          "schema_version": 2,
          "solution": false
        },
        "pycharm": {}
      },
      "source": [
        "## Question 2c: Implement the absolute loss \n",
        "\n",
        "$$\\Large\n",
        "L\\left(y, \\hat{\\hspace{0pt}y} \\right) \u003d \\left| y - \\hat{\\hspace{0pt}y} \\right|\n",
        "$$"
      ]
    },
    {
      "cell_type": "markdown",
      "metadata": {
        "pycharm": {}
      },
      "source": [
        "**Round 1**"
      ]
    },
    {
      "cell_type": "markdown",
      "metadata": {
        "pycharm": {}
      },
      "source": [
        "Clarification:"
      ]
    },
    {
      "cell_type": "markdown",
      "metadata": {
        "pycharm": {}
      },
      "source": "What should I define the funciton name?"
    },
    {
      "cell_type": "markdown",
      "metadata": {
        "pycharm": {}
      },
      "source": [
        "Answer:"
      ]
    },
    {
      "cell_type": "markdown",
      "metadata": {
        "pycharm": {}
      },
      "source": "`abs_loss`"
    },
    {
      "cell_type": "markdown",
      "metadata": {
        "pycharm": {}
      },
      "source": [
        "Reason:"
      ]
    },
    {
      "cell_type": "markdown",
      "metadata": {
        "pycharm": {}
      },
      "source": "The rest of the intent is clear. "
    },
    {
      "cell_type": "code",
      "execution_count": 12,
      "metadata": {
        "deletable": false,
        "nbgrader": {
          "cell_type": "code",
          "checksum": "b3060a2cb2f12edb091c9b25599727da",
          "grade": false,
          "grade_id": "q2c-answer",
          "locked": false,
          "schema_version": 2,
          "solution": true
        },
        "tags": [
          "student"
        ],
        "pycharm": {}
      },
      "outputs": [],
      "source": [
        "import math\n",
        "def abs_loss(y_obs, y_hat):\n",
        "    \"\"\"\n",
        "    y_obs: an array of observed valued\n",
        "    y_hat: an array of predicted values\n",
        "    return an array corresponding to the loss for each prediction\n",
        "    \"\"\"\n",
        "    ...\n",
        "    return abs(y_obs - y_hat)"
      ]
    },
    {
      "cell_type": "code",
      "execution_count": 13,
      "metadata": {
        "deletable": false,
        "editable": false,
        "nbgrader": {
          "cell_type": "code",
          "checksum": "fd180757e3dd5c267be635f2f000c2ea",
          "grade": true,
          "grade_id": "q2c-test",
          "locked": true,
          "points": 1,
          "schema_version": 2,
          "solution": false
        },
        "tags": [
          "test",
          "q02c"
        ],
        "pycharm": {}
      },
      "outputs": [],
      "source": [
        "assert abs_loss(2, 1) \u003d\u003d 1\n",
        "assert abs_loss(-2, 1) \u003d\u003d 3\n",
        "assert abs_loss(1, -3) \u003d\u003d 4 \n",
        "assert np.linalg.norm(abs_loss(np.array([1,2]), np.array([-3,3])) - np.array([4, 1]), ord\u003d1) \u003d\u003d 0.0"
      ]
    },
    {
      "cell_type": "markdown",
      "metadata": {
        "deletable": false,
        "editable": false,
        "nbgrader": {
          "cell_type": "markdown",
          "checksum": "7b0755ae0e642bec552cccde9b32a21e",
          "grade": false,
          "grade_id": "q2c-plot",
          "locked": true,
          "schema_version": 2,
          "solution": false
        },
        "pycharm": {}
      },
      "source": [
        "Below is the plot of the absolute loss.  If you implemented things correctly it should look like:\n",
        "\n",
        "![absolute loss](absolute_loss.png)\n"
      ]
    },
    {
      "cell_type": "markdown",
      "metadata": {
        "pycharm": {}
      },
      "source": [
        "**Round 1**"
      ]
    },
    {
      "cell_type": "markdown",
      "metadata": {
        "pycharm": {}
      },
      "source": [
        "Clarification:"
      ]
    },
    {
      "cell_type": "markdown",
      "metadata": {
        "pycharm": {}
      },
      "source": "NA"
    },
    {
      "cell_type": "markdown",
      "metadata": {
        "pycharm": {}
      },
      "source": [
        "Answer:"
      ]
    },
    {
      "cell_type": "markdown",
      "metadata": {
        "pycharm": {}
      },
      "source": "NA"
    },
    {
      "cell_type": "markdown",
      "metadata": {
        "pycharm": {}
      },
      "source": [
        "Reason:"
      ]
    },
    {
      "cell_type": "markdown",
      "metadata": {
        "pycharm": {}
      },
      "source": "Doesn\u0027t fit"
    },
    {
      "cell_type": "code",
      "execution_count": 14,
      "metadata": {
        "deletable": false,
        "editable": false,
        "nbgrader": {
          "cell_type": "code",
          "checksum": "c771017e54657e924c429a0a2df009f2",
          "grade": false,
          "grade_id": "q2c-makeplot",
          "locked": true,
          "schema_version": 2,
          "solution": false
        },
        "tags": [
          "student",
          "written"
        ],
        "pycharm": {}
      },
      "outputs": [
        {
          "data": {
            "image/png": "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\u003d\n",
            "text/plain": [
              "\u003cmatplotlib.figure.Figure at 0x7f6d6e4143c8\u003e"
            ]
          },
          "metadata": {},
          "output_type": "display_data"
        }
      ],
      "source": [
        "y \u003d np.array([3.00])\n",
        "x \u003d np.array([28.00])\n",
        "thetas \u003d np.linspace(0, 0.3, 200) \n",
        "\n",
        "# Code provided for you this time. (your welcome)\n",
        "loss \u003d np.array([abs_loss(y, model(theta,x)).mean() for theta in thetas])\n",
        "\n",
        "plt.plot(thetas, loss, label\u003d\"Absolute Loss\")\n",
        "plt.xlabel(r\"Choice for $\\theta$\")\n",
        "plt.ylabel(r\"Loss\")\n",
        "plt.legend(loc\u003d4)\n",
        "plt.savefig(\"absolute_loss_my_plot.png\",  bbox_inches \u003d \u0027tight\u0027)"
      ]
    },
    {
      "cell_type": "markdown",
      "metadata": {
        "deletable": false,
        "editable": false,
        "nbgrader": {
          "cell_type": "markdown",
          "checksum": "8c1b2a1a06edd6fa20badfa355abfdf2",
          "grade": false,
          "grade_id": "q2d",
          "locked": true,
          "schema_version": 2,
          "solution": false
        },
        "pycharm": {}
      },
      "source": [
        "\n",
        "## Question 2d: Plotting **Average Loss** for our Data\n",
        "\n",
        "We can extend the above loss functions to an entire dataset by taking the average. Let the dataset $\\mathcal{D}$ be the set of observations:\n",
        "\n",
        "$$\\Large\n",
        "\\mathcal{D} \u003d \\{(x_1, y_1), \\ldots, (x_n, y_n)\\}\n",
        "$$\n",
        "\n",
        "where $x_i$ is the total bill and $y_i$ is the tip dollar amount.\n",
        "\n",
        "We can define the average loss over the dataset as:\n",
        "\n",
        "$$\\Large\n",
        "L\\left(\\theta, \\mathcal{D}\\right) \u003d \\frac{1}{n} \\sum_{i\u003d1}^n L(m_\\theta(x_i), y_i) \u003d \\frac{1}{n} \\sum_{i\u003d1}^n L(\\theta *  x_i, y_i)\n",
        "$$\n",
        "\n",
        "where $m_\\theta(x_i) \u003d \\theta * x_i$ is the model evaluated using the parameters $\\theta$ on the bill amount $x_i$.\n",
        "\n",
        "**Complete the following code block to render a plot of the average absolute and squared loss for different values of $\\theta$**"
      ]
    },
    {
      "cell_type": "markdown",
      "metadata": {
        "pycharm": {}
      },
      "source": [
        "**Round 1**"
      ]
    },
    {
      "cell_type": "markdown",
      "metadata": {
        "pycharm": {}
      },
      "source": [
        "Clarification:"
      ]
    },
    {
      "cell_type": "markdown",
      "metadata": {
        "pycharm": {}
      },
      "source": "What is the minimum, maximum and step size of theta?"
    },
    {
      "cell_type": "markdown",
      "metadata": {
        "pycharm": {}
      },
      "source": [
        "Answer:"
      ]
    },
    {
      "cell_type": "markdown",
      "metadata": {
        "pycharm": {}
      },
      "source": "Minimum: 0.0, Maximum: 0.3, step size: 200"
    },
    {
      "cell_type": "markdown",
      "metadata": {
        "pycharm": {}
      },
      "source": [
        "Reason:"
      ]
    },
    {
      "cell_type": "markdown",
      "metadata": {
        "pycharm": {}
      },
      "source": "These are not part of the intent."
    },
    {
      "cell_type": "code",
      "execution_count": 25,
      "metadata": {
        "deletable": false,
        "nbgrader": {
          "cell_type": "code",
          "checksum": "6b59c68567db321b30a7bca0f9abd31c",
          "grade": false,
          "grade_id": "q2d-answer",
          "locked": false,
          "schema_version": 2,
          "solution": true
        },
        "tags": [
          "student"
        ],
        "pycharm": {}
      },
      "outputs": [],
      "source": [
        "thetas \u003d np.linspace(0, 0.3, 200) # A range of theta values:\n",
        "y \u003d data[\u0027tip\u0027]\n",
        "x \u003d data[\u0027total_bill\u0027]\n",
        "\n",
        "#Replace 0.0 with the correct value computed \n",
        "#using the model and loss functions from above\n",
        "\n",
        "avg_squared_loss \u003d np.array([squared_loss(y, model(theta, x)).mean() for theta in thetas])\n",
        "\n",
        "avg_absolute_loss \u003d np.array([abs_loss(y, model(theta,x)).mean() for theta in thetas])\n",
        "\n",
        "#len(x) #244\n",
        "#avg_squared_loss"
      ]
    },
    {
      "cell_type": "markdown",
      "metadata": {
        "deletable": false,
        "editable": false,
        "nbgrader": {
          "cell_type": "markdown",
          "checksum": "cb87aa5a851e74ea46268de9be979fda",
          "grade": false,
          "grade_id": "q2d-plot",
          "locked": true,
          "schema_version": 2,
          "solution": false
        },
        "pycharm": {}
      },
      "source": [
        "If done correctly the following plot should look like:\n",
        "\n",
        "![Average Loss](average_loss.png)"
      ]
    },
    {
      "cell_type": "markdown",
      "metadata": {
        "pycharm": {}
      },
      "source": [
        "**Round 1**"
      ]
    },
    {
      "cell_type": "markdown",
      "metadata": {
        "pycharm": {}
      },
      "source": [
        "Clarification:"
      ]
    },
    {
      "cell_type": "markdown",
      "metadata": {
        "pycharm": {}
      },
      "source": []
    },
    {
      "cell_type": "markdown",
      "metadata": {
        "pycharm": {}
      },
      "source": [
        "Answer:"
      ]
    },
    {
      "cell_type": "markdown",
      "metadata": {
        "pycharm": {}
      },
      "source": []
    },
    {
      "cell_type": "markdown",
      "metadata": {
        "pycharm": {}
      },
      "source": [
        "Reason:"
      ]
    },
    {
      "cell_type": "markdown",
      "metadata": {
        "pycharm": {}
      },
      "source": "Doesn\u0027t fit"
    },
    {
      "cell_type": "code",
      "execution_count": 26,
      "metadata": {
        "deletable": false,
        "editable": false,
        "nbgrader": {
          "cell_type": "code",
          "checksum": "0dd27e9206dcfd49bc26e5192abcc6ff",
          "grade": false,
          "grade_id": "q2d-makeplot",
          "locked": true,
          "schema_version": 2,
          "solution": false
        },
        "tags": [
          "student",
          "written"
        ],
        "pycharm": {}
      },
      "outputs": [
        {
          "data": {
            "image/png": "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\u003d\n",
            "text/plain": [
              "\u003cmatplotlib.figure.Figure at 0x7f6d6e5277b8\u003e"
            ]
          },
          "metadata": {},
          "output_type": "display_data"
        }
      ],
      "source": [
        "plt.plot(thetas, avg_squared_loss, label \u003d \"Average Squared Loss\")\n",
        "plt.plot(thetas, avg_absolute_loss, label \u003d \"Average Absolute Loss\")\n",
        "plt.xlabel(r\"$\\theta$ Value\")\n",
        "plt.ylabel(\"Loss Value\")\n",
        "plt.savefig(\"average_loss_my_plot.png\",  bbox_inches \u003d \u0027tight\u0027)"
      ]
    },
    {
      "cell_type": "markdown",
      "metadata": {
        "deletable": false,
        "editable": false,
        "nbgrader": {
          "cell_type": "markdown",
          "checksum": "29441c1183eac5cb3457a8da28ad2bfc",
          "grade": false,
          "grade_id": "q3",
          "locked": true,
          "schema_version": 2,
          "solution": false
        },
        "pycharm": {}
      },
      "source": [
        "---\n",
        "\u003cbr/\u003e\u003cbr/\u003e\u003cbr/\u003e \n",
        "\n",
        "# Question 3: Minimizing The Loss\n",
        "\n",
        "In some cases, it is possible to use calculus to analytically compute the parameters $\\theta$ that minimize the loss function.  However, in this lab we will use computational techniques to minimize the loss.  Here we will use the [`scipy.optimize.minimize`](https://docs.scipy.org/doc/scipy/reference/generated/scipy.optimize.minimize.html) routine to minimize the average loss.\n",
        "\n",
        "Complete the following python function:"
      ]
    },
    {
      "cell_type": "markdown",
      "metadata": {
        "pycharm": {}
      },
      "source": [
        "**Round 1**"
      ]
    },
    {
      "cell_type": "markdown",
      "metadata": {
        "pycharm": {}
      },
      "source": [
        "Clarification:"
      ]
    },
    {
      "cell_type": "markdown",
      "metadata": {
        "pycharm": {}
      },
      "source": "What is the initial value of parameters?"
    },
    {
      "cell_type": "markdown",
      "metadata": {
        "pycharm": {}
      },
      "source": [
        "Answer:"
      ]
    },
    {
      "cell_type": "markdown",
      "metadata": {
        "pycharm": {}
      },
      "source": "0.0"
    },
    {
      "cell_type": "markdown",
      "metadata": {
        "pycharm": {}
      },
      "source": [
        "Reason:"
      ]
    },
    {
      "cell_type": "markdown",
      "metadata": {
        "pycharm": {}
      },
      "source": []
    },
    {
      "cell_type": "code",
      "execution_count": 35,
      "metadata": {
        "deletable": false,
        "nbgrader": {
          "cell_type": "code",
          "checksum": "b079c870ad7b42288ed30a01c4a18f7b",
          "grade": false,
          "grade_id": "q3-answer",
          "locked": false,
          "schema_version": 2,
          "solution": true
        },
        "tags": [
          "student"
        ],
        "pycharm": {}
      },
      "outputs": [],
      "source": [
        "from scipy.optimize import minimize\n",
        "\n",
        "def minimize_average_loss(loss_function, model, x, y):\n",
        "    \"\"\"\n",
        "    loss_function: either the squared or absolute loss functions from above.\n",
        "    model: the model (as defined above)\n",
        "    x: the x values (total bills)\n",
        "    y: the y values (tip amounts)\n",
        "    return the estimate for theta as a scalar\n",
        "    \n",
        "    Note we will ignore failed convergence for this lab ... \n",
        "    \"\"\"\n",
        "    \n",
        "    ## Notes on the following function call which you need to finish:\n",
        "    # \n",
        "    # 0. the ... should be replaced with the average loss evaluated on \n",
        "    #       the data x, y using the model and appropriate loss function\n",
        "    # 1. x0 is the initial value for THETA.  Yes, this is confusing\n",
        "    #       but optimization people like x to be the thing they are \n",
        "    #       optimizing.\n",
        "    # 2. We extract the \u0027x\u0027 entry in the dictionary which corresponds\n",
        "    #       to the value of theta at the optimum\n",
        "    # 3. The resulting theta is actually an array with a single element\n",
        "    #       therefore we grab just that element with [0]\n",
        "    # YOUR CODE HERE\n",
        "    #raise NotImplementedError()\n",
        "    #abs_loss(y_obs, y_hat):\n",
        "    return minimize(lambda theta: loss_function(y, model(theta, x)).mean(), x0\u003d0.0)[\u0027x\u0027][0]"
      ]
    },
    {
      "cell_type": "code",
      "execution_count": null,
      "metadata": {
        "pycharm": {}
      },
      "outputs": [],
      "source": []
    },
    {
      "cell_type": "code",
      "execution_count": 36,
      "metadata": {
        "deletable": false,
        "editable": false,
        "nbgrader": {
          "cell_type": "code",
          "checksum": "55148318e3ac2f0721af393d0056c072",
          "grade": false,
          "grade_id": "q3-check1",
          "locked": true,
          "schema_version": 2,
          "solution": false
        },
        "pycharm": {}
      },
      "outputs": [
        {
          "data": {
            "text/plain": [
              "0.14373189123158361"
            ]
          },
          "execution_count": 36,
          "metadata": {},
          "output_type": "execute_result"
        }
      ],
      "source": [
        "## Should be roughly 0.1437\n",
        "y \u003d data[\u0027tip\u0027]\n",
        "x \u003d data[\u0027total_bill\u0027]\n",
        "minimize_average_loss(squared_loss, model, x, y)"
      ]
    },
    {
      "cell_type": "code",
      "execution_count": 37,
      "metadata": {
        "deletable": false,
        "editable": false,
        "nbgrader": {
          "cell_type": "code",
          "checksum": "419745e8a0e5edb7ad9cea2c4d0bba13",
          "grade": false,
          "grade_id": "q3-check2",
          "locked": true,
          "schema_version": 2,
          "solution": false
        },
        "pycharm": {}
      },
      "outputs": [
        {
          "data": {
            "text/plain": [
              "0.14958862196250119"
            ]
          },
          "execution_count": 37,
          "metadata": {},
          "output_type": "execute_result"
        }
      ],
      "source": [
        "## Should be roughly 0.1496\n",
        "y \u003d data[\u0027tip\u0027]\n",
        "x \u003d data[\u0027total_bill\u0027]\n",
        "minimize_average_loss(abs_loss, model, x, y)"
      ]
    },
    {
      "cell_type": "code",
      "execution_count": 38,
      "metadata": {
        "deletable": false,
        "editable": false,
        "nbgrader": {
          "cell_type": "code",
          "checksum": "8871d858a83700161ed3fd8577d29bba",
          "grade": true,
          "grade_id": "q3-test",
          "locked": true,
          "points": 1,
          "schema_version": 2,
          "solution": false
        },
        "tags": [
          "test",
          "q03"
        ],
        "pycharm": {}
      },
      "outputs": [],
      "source": [
        "assert np.isclose(minimize_average_loss(squared_loss, model, data[\u0027total_bill\u0027], data[\u0027tip\u0027]), 0.14373189229218733)\n",
        "assert np.isclose(minimize_average_loss(abs_loss, model, data[\u0027total_bill\u0027], data[\u0027tip\u0027]), 0.14958862353611219)"
      ]
    },
    {
      "cell_type": "markdown",
      "metadata": {
        "deletable": false,
        "editable": false,
        "nbgrader": {
          "cell_type": "markdown",
          "checksum": "8b089c7d3b2667c6b47d9cb7e005cba4",
          "grade": false,
          "grade_id": "submit",
          "locked": true,
          "schema_version": 2,
          "solution": false
        },
        "pycharm": {}
      },
      "source": [
        "## Submission\n",
        "\n",
        "Congrats! You are finished with this assignment. Please don\u0027t forget to submit by 11:59 pm!"
      ]
    }
  ],
  "metadata": {
    "_change_revision": 0,
    "_is_fork": false,
    "celltoolbar": "Create Assignment",
    "kernelspec": {
      "display_name": "Python 3",
      "language": "python",
      "name": "python3"
    },
    "language_info": {
      "codemirror_mode": {
        "name": "ipython",
        "version": 3
      },
      "file_extension": ".py",
      "mimetype": "text/x-python",
      "name": "python",
      "nbconvert_exporter": "python",
      "pygments_lexer": "ipython3",
      "version": "3.8.8"
    },
    "nb_index": 5807,
    "path": "repos/repof_882/lab08-checkpoint.ipynb",
    "repo": "lamalor/ds100",
    "toc": {
      "colors": {
        "hover_highlight": "#DAA520",
        "navigate_num": "#000000",
        "navigate_text": "#333333",
        "running_highlight": "#FF0000",
        "selected_highlight": "#FFD700",
        "sidebar_border": "#EEEEEE",
        "wrapper_background": "#FFFFFF"
      },
      "moveMenuLeft": true,
      "nav_menu": {
        "height": "301px",
        "width": "252px"
      },
      "navigate_menu": true,
      "number_sections": true,
      "sideBar": true,
      "threshold": 4,
      "toc_cell": false,
      "toc_section_display": "block",
      "toc_window_display": false,
      "widenNotebook": false
    }
  },
  "nbformat": 4,
  "nbformat_minor": 4
}